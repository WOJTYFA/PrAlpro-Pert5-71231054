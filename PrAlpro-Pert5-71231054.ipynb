{
 "cells": [
  {
   "cell_type": "code",
   "execution_count": 3,
   "metadata": {},
   "outputs": [],
   "source": [
    "#latihan 5.1\n",
    "\n",
    "def perkalian(a, b):\n",
    "    for i in range(b):\n",
    "        hasil += a\n",
    "    return hasil\n",
    "\n",
    "def main():\n",
    "    angka_pertama = int(input( \" Masukan angka ke 1: \"))\n",
    "    angka_kedua = int(input(\" Masukan angka ke 2: \"))\n",
    "\n",
    "    hasil_perkalian = perkalian(angka_pertama, angka_kedua)\n",
    "    print(f\"{angka_pertama}*{angka_kedua} = {\" + \", (str(angka_pertama) for i in range(angka_kedua))} = {hasil_perkalian}\")\n",
    "\n"
   ]
  },
  {
   "cell_type": "code",
   "execution_count": 6,
   "metadata": {},
   "outputs": [],
   "source": [
    "#latihan 5.2\n",
    "\n",
    "def ganjil(bawah, atas):\n",
    "    if bawah < atas:\n",
    "        return (i for i in range(bawah + 1, atas) if i % 2 != 0)\n",
    "    elif bawah > atas:\n",
    "        return (i for i in range(bawah - 1, atas) if i % 2 != 0)\n",
    "    else:\n",
    "        return()\n",
    "    \n",
    "def main():\n",
    "    bawah = int(input( \" Masukan batas bagian bawah = \"))\n",
    "    atas = int(input( \" Masukan batas bagian atas = \"))\n",
    "\n",
    "    if bawah < atas:\n",
    "        print(f\"Oleh karena {bawah} < {atas}, hasilnya: {\" \",(str(i) for i in ganjil(bawah, atas))} \")\n",
    "    elif bawah > atas:\n",
    "         print(f\"Oleh karena {bawah} > {atas}, hasilnya: {\" \",(str(i) for i in ganjil(bawah, atas))} \")\n",
    "    else:\n",
    "        print(\" Antara bilangan atas dan bawah sama, sehingga tidak ada bilangan ganjil\")\n"
   ]
  },
  {
   "cell_type": "code",
   "execution_count": null,
   "metadata": {},
   "outputs": [],
   "source": [
    "#latihan 5.3\n",
    "\n",
    "def hitung_ips(jumlah_matkul, nilai_matkul):\n",
    "    total_sks = jumlah_matkul * 3\n",
    "    total_bobot = 0\n",
    "\n",
    "    for nilai in nilai_matkul:\n",
    "        if nilai == \"A\":\n",
    "            total_bobot += 4\n",
    "        elif nilai == \"B\":\n",
    "            total_bobot += 3\n",
    "        elif nilai == \"C\":\n",
    "            total_bobot += 2\n",
    "        elif nilai == \"D\":\n",
    "            total_bobot += 1\n",
    "    ips = total_bobot / total_sks\n",
    "    return ips\n",
    "\n",
    "def main():\n",
    "    jumlah_matkul = int(input(\" Masukan mata kuliah anda: \"))\n",
    "    nilai_matkul = []\n",
    "\n",
    "    for i in range(jumlah_matkul):\n",
    "        nilai = input(f\"masukan nilai matkul ke-(i+1) (A/B/C/D): \")\n",
    "        while nilai not in [\"A\", \"B\", \"C\", \"D\"]:\n",
    "            print(\"Nilai yang anda inputkan tidsk vallid, mohon masukan nilai yang valid\")\n",
    "            nilai = input (f\"Maukan nilai matkul ke-(i+1): \")\n",
    "        nilai_matkul\n",
    "\n",
    "    ips = hitung_ips(jumlah_matkul, nilai_matkul)\n",
    "    print(f\"IPS yang anda dapatkan: (ips:2f)\")"
   ]
  }
 ],
 "metadata": {
  "kernelspec": {
   "display_name": "Python 3",
   "language": "python",
   "name": "python3"
  },
  "language_info": {
   "codemirror_mode": {
    "name": "ipython",
    "version": 3
   },
   "file_extension": ".py",
   "mimetype": "text/x-python",
   "name": "python",
   "nbconvert_exporter": "python",
   "pygments_lexer": "ipython3",
   "version": "3.12.0"
  }
 },
 "nbformat": 4,
 "nbformat_minor": 2
}
